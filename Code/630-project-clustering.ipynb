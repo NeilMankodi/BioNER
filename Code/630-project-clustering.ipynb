{
 "cells": [
  {
   "cell_type": "code",
   "execution_count": 1,
   "id": "e6b62d7b",
   "metadata": {},
   "outputs": [
    {
     "name": "stderr",
     "output_type": "stream",
     "text": [
      "/home/aryanrr/.local/lib/python3.9/site-packages/torch/cuda/__init__.py:628: UserWarning: Can't initialize NVML\n",
      "  warnings.warn(\"Can't initialize NVML\")\n"
     ]
    }
   ],
   "source": [
    "from gensim.models import Word2Vec\n",
    "from sklearn.cluster import AgglomerativeClustering, KMeans\n",
    "from sklearn.metrics import pairwise_distances_argmin_min, silhouette_score\n",
    "import numpy as np\n",
    "import pandas as pd\n",
    "import ast\n",
    "import random\n",
    "from scipy.cluster.hierarchy import dendrogram, linkage\n",
    "import matplotlib.pyplot as plt\n",
    "from sklearn.mixture import GaussianMixture\n",
    "\n",
    "import spacy\n",
    "nlp = spacy.load(\"en_core_web_sm\")\n",
    "\n",
    "import warnings\n",
    "warnings.filterwarnings(\"ignore\")"
   ]
  },
  {
   "cell_type": "code",
   "execution_count": 2,
   "id": "f964e4d3",
   "metadata": {},
   "outputs": [
    {
     "data": {
      "image/png": "[encoded data removed]",
      "text/plain": [
       "<Figure size 720x432 with 1 Axes>"
      ]
     },
     "metadata": {
      "needs_background": "light"
     },
     "output_type": "display_data"
    }
   ],
   "source": [
    "f1_scores = {\n",
    "    \"Baseline 1\": 0.01,\n",
    "    \"Baseline 2\": 0.016,\n",
    "    \"Electra Base\": 0.67,\n",
    "    \"BERT Large\": 0.7,\n",
    "    \"BERT Base\": 0.52,\n",
    "    \"Electra Large\": 0.7\n",
    "}\n",
    "\n",
    "# Plot F1 scores\n",
    "plt.figure(figsize=(10, 6))\n",
    "plt.bar(f1_scores.keys(), f1_scores.values(), color='skyblue', alpha=1)\n",
    "plt.title('F1 Scores for Different Models')\n",
    "plt.xlabel('Model')\n",
    "plt.ylabel('F1 Score')\n",
    "plt.ylim(0, 1)  # Set y-axis limits\n",
    "plt.xticks(rotation=45)\n",
    "plt.grid(axis='y', linestyle='--', alpha=0.7)\n",
    "plt.show()"
   ]
  },
  {
   "cell_type": "code",
   "execution_count": 3,
   "id": "55acbfa0",
   "metadata": {},
   "outputs": [],
   "source": [
    "random.seed(630)"
   ]
  },
  {
   "cell_type": "code",
   "execution_count": 4,
   "id": "137ecd71",
   "metadata": {},
   "outputs": [],
   "source": [
    "train_df = pd.read_csv(\"630_train_predictions.csv\")\n",
    "val_df = pd.read_csv(\"630_val_predictions.csv\")\n",
    "test_df = pd.read_csv(\"630_test_predictions.csv\")"
   ]
  },
  {
   "cell_type": "code",
   "execution_count": 5,
   "id": "b4f0c110",
   "metadata": {},
   "outputs": [
    {
     "data": {
      "text/html": [
       "<div>\n",
       "<style scoped>\n",
       "    .dataframe tbody tr th:only-of-type {\n",
       "        vertical-align: middle;\n",
       "    }\n",
       "\n",
       "    .dataframe tbody tr th {\n",
       "        vertical-align: top;\n",
       "    }\n",
       "\n",
       "    .dataframe thead th {\n",
       "        text-align: right;\n",
       "    }\n",
       "</style>\n",
       "<table border=\"1\" class=\"dataframe\">\n",
       "  <thead>\n",
       "    <tr style=\"text-align: right;\">\n",
       "      <th></th>\n",
       "      <th>id</th>\n",
       "      <th>tokens</th>\n",
       "      <th>labels</th>\n",
       "      <th>predicted_labels</th>\n",
       "      <th>predicted_entities</th>\n",
       "    </tr>\n",
       "  </thead>\n",
       "  <tbody>\n",
       "    <tr>\n",
       "      <th>0</th>\n",
       "      <td>0</td>\n",
       "      <td>['Somatic' 'cell' 'selection' 'major' 'determi...</td>\n",
       "      <td>[0 0 0 0 0 0 0 0 0 0 2 0 0 0 0 2 0 0 0 0 0 0 0...</td>\n",
       "      <td>[0, 0, 0, 0, 0, 0, 0, 0, 0, 0, 2, 0, 0, 1, 2, ...</td>\n",
       "      <td>['dehydrogenase', 'severe enzyme deficiency', ...</td>\n",
       "    </tr>\n",
       "    <tr>\n",
       "      <th>1</th>\n",
       "      <td>1</td>\n",
       "      <td>['ataxia' 'telangiectasia' 'gene' 'product' 'c...</td>\n",
       "      <td>[0 0 0 0 0 0 0 0 0 0 0 0 0 0 0 0 0 0 0 0 0 0 0...</td>\n",
       "      <td>[0, 0, 0, 0, 0, 0, 0, 0, 0, 0, 0, 0, 0, 0, 0, ...</td>\n",
       "      <td>[]</td>\n",
       "    </tr>\n",
       "    <tr>\n",
       "      <th>2</th>\n",
       "      <td>2</td>\n",
       "      <td>['Molecular' 'basis' 'Duarte' 'Los' 'Angeles' ...</td>\n",
       "      <td>[0 0 1 0 0 2 2 0 0 0 1 2 2 2 0 0 0 0 0 0 0 0 0...</td>\n",
       "      <td>[0, 0, 0, 0, 0, 0, 1, 0, 0, 0, 0, 0, 0, 1, 0, ...</td>\n",
       "      <td>['galactosemia', 'galactosemia', 'galactosemia']</td>\n",
       "    </tr>\n",
       "    <tr>\n",
       "      <th>3</th>\n",
       "      <td>3</td>\n",
       "      <td>['intronic' 'mutation' 'lariat' 'branchpoint' ...</td>\n",
       "      <td>[0 0 0 0 0 0 0 0 0 0 0 0 2 0 0 0 0 0 0 0 0 0 0...</td>\n",
       "      <td>[0, 0, 0, 0, 0, 0, 0, 0, 0, 0, 0, 0, 2, 0, 0, ...</td>\n",
       "      <td>['disease', 'eye disease', 'FED', 'FED', 'FED']</td>\n",
       "    </tr>\n",
       "    <tr>\n",
       "      <th>4</th>\n",
       "      <td>4</td>\n",
       "      <td>['Genetic' 'heterogeneity' 'hereditary' 'breas...</td>\n",
       "      <td>[0 0 1 2 2 0 0 1 0 2 2 0 0 0 0 0 0 0 1 2 2 0 0...</td>\n",
       "      <td>[0, 0, 1, 2, 2, 0, 0, 1, 0, 2, 2, 0, 0, 0, 0, ...</td>\n",
       "      <td>['hereditary breast cancer', 'hereditary', 'br...</td>\n",
       "    </tr>\n",
       "  </tbody>\n",
       "</table>\n",
       "</div>"
      ],
      "text/plain": [
       "   id                                             tokens  \\\n",
       "0   0  ['Somatic' 'cell' 'selection' 'major' 'determi...   \n",
       "1   1  ['ataxia' 'telangiectasia' 'gene' 'product' 'c...   \n",
       "2   2  ['Molecular' 'basis' 'Duarte' 'Los' 'Angeles' ...   \n",
       "3   3  ['intronic' 'mutation' 'lariat' 'branchpoint' ...   \n",
       "4   4  ['Genetic' 'heterogeneity' 'hereditary' 'breas...   \n",
       "\n",
       "                                              labels  \\\n",
       "0  [0 0 0 0 0 0 0 0 0 0 2 0 0 0 0 2 0 0 0 0 0 0 0...   \n",
       "1  [0 0 0 0 0 0 0 0 0 0 0 0 0 0 0 0 0 0 0 0 0 0 0...   \n",
       "2  [0 0 1 0 0 2 2 0 0 0 1 2 2 2 0 0 0 0 0 0 0 0 0...   \n",
       "3  [0 0 0 0 0 0 0 0 0 0 0 0 2 0 0 0 0 0 0 0 0 0 0...   \n",
       "4  [0 0 1 2 2 0 0 1 0 2 2 0 0 0 0 0 0 0 1 2 2 0 0...   \n",
       "\n",
       "                                    predicted_labels  \\\n",
       "0  [0, 0, 0, 0, 0, 0, 0, 0, 0, 0, 2, 0, 0, 1, 2, ...   \n",
       "1  [0, 0, 0, 0, 0, 0, 0, 0, 0, 0, 0, 0, 0, 0, 0, ...   \n",
       "2  [0, 0, 0, 0, 0, 0, 1, 0, 0, 0, 0, 0, 0, 1, 0, ...   \n",
       "3  [0, 0, 0, 0, 0, 0, 0, 0, 0, 0, 0, 0, 2, 0, 0, ...   \n",
       "4  [0, 0, 1, 2, 2, 0, 0, 1, 0, 2, 2, 0, 0, 0, 0, ...   \n",
       "\n",
       "                                  predicted_entities  \n",
       "0  ['dehydrogenase', 'severe enzyme deficiency', ...  \n",
       "1                                                 []  \n",
       "2   ['galactosemia', 'galactosemia', 'galactosemia']  \n",
       "3    ['disease', 'eye disease', 'FED', 'FED', 'FED']  \n",
       "4  ['hereditary breast cancer', 'hereditary', 'br...  "
      ]
     },
     "execution_count": 5,
     "metadata": {},
     "output_type": "execute_result"
    }
   ],
   "source": [
    "val_df.head()"
   ]
  },
  {
   "cell_type": "code",
   "execution_count": 6,
   "id": "ec27a756",
   "metadata": {},
   "outputs": [
    {
     "name": "stdout",
     "output_type": "stream",
     "text": [
      "(593, 5)\n",
      "(100, 5)\n",
      "(100, 5)\n"
     ]
    }
   ],
   "source": [
    "print(train_df.shape)\n",
    "print(val_df.shape)\n",
    "print(test_df.shape)"
   ]
  },
  {
   "cell_type": "code",
   "execution_count": 7,
   "id": "65f4aec5",
   "metadata": {},
   "outputs": [],
   "source": [
    "train_df['predicted_entities'] = train_df['predicted_entities'].apply(ast.literal_eval)\n",
    "val_df['predicted_entities'] = val_df['predicted_entities'].apply(ast.literal_eval)\n",
    "test_df['predicted_entities'] = test_df['predicted_entities'].apply(ast.literal_eval)"
   ]
  },
  {
   "cell_type": "markdown",
   "id": "48bcbcc4",
   "metadata": {},
   "source": [
    "# Clustering"
   ]
  },
  {
   "cell_type": "code",
   "execution_count": 8,
   "id": "cb4428e1",
   "metadata": {},
   "outputs": [],
   "source": [
    "all_entities_train = list(set([entity for sublist in train_df['predicted_entities'] for entity in sublist]))\n",
    "all_entities_val = list(set([entity for sublist in val_df['predicted_entities'] for entity in sublist]))\n",
    "all_entities_test = list(set([entity for sublist in test_df['predicted_entities'] for entity in sublist]))\n",
    "\n",
    "unique_entities = []\n",
    "unique_entities.extend(all_entities_train)\n",
    "unique_entities.extend(all_entities_val)\n",
    "unique_entities.extend(all_entities_test)"
   ]
  },
  {
   "cell_type": "code",
   "execution_count": 9,
   "id": "ad6256f5",
   "metadata": {},
   "outputs": [
    {
     "data": {
      "text/plain": [
       "1856"
      ]
     },
     "execution_count": 9,
     "metadata": {},
     "output_type": "execute_result"
    }
   ],
   "source": [
    "len(unique_entities)"
   ]
  },
  {
   "cell_type": "code",
   "execution_count": 10,
   "id": "de3925b6",
   "metadata": {},
   "outputs": [],
   "source": [
    "def preprocess_text(text):\n",
    "    doc = nlp(text.lower())\n",
    "    processed_text = \" \".join(token.lemma_ for token in doc if not token.is_stop and token.is_alpha)\n",
    "    return processed_text"
   ]
  },
  {
   "cell_type": "code",
   "execution_count": 11,
   "id": "6b36359f",
   "metadata": {},
   "outputs": [],
   "source": [
    "unique_entities = [preprocess_text(entity) for entity in unique_entities]"
   ]
  },
  {
   "cell_type": "code",
   "execution_count": 12,
   "id": "6987b41d",
   "metadata": {},
   "outputs": [
    {
     "data": {
      "text/plain": [
       "1374"
      ]
     },
     "execution_count": 12,
     "metadata": {},
     "output_type": "execute_result"
    }
   ],
   "source": [
    "unique_entities = list(set(unique_entities))\n",
    "len(unique_entities)"
   ]
  },
  {
   "cell_type": "code",
   "execution_count": 13,
   "id": "083bede3",
   "metadata": {},
   "outputs": [],
   "source": [
    "word2vec_model = Word2Vec([unique_entities], vector_size=100, window=5, min_count=1, sg=1)"
   ]
  },
  {
   "cell_type": "code",
   "execution_count": 14,
   "id": "d8fd2a97",
   "metadata": {},
   "outputs": [],
   "source": [
    "word_vectors = [word2vec_model.wv[word] for word in unique_entities]"
   ]
  },
  {
   "cell_type": "code",
   "execution_count": 15,
   "id": "06179fe4",
   "metadata": {},
   "outputs": [],
   "source": [
    "scores = {\n",
    "    'baseline_1': -0.014,\n",
    "    'baseline_2': -0.014,\n",
    "}"
   ]
  },
  {
   "cell_type": "markdown",
   "id": "6b4bd44b",
   "metadata": {},
   "source": [
    "## Agglomerative"
   ]
  },
  {
   "cell_type": "code",
   "execution_count": 16,
   "id": "71edb4a1",
   "metadata": {},
   "outputs": [
    {
     "data": {
      "image/png": "[encoded data removed]",
      "text/plain": [
       "<Figure size 864x576 with 1 Axes>"
      ]
     },
     "metadata": {
      "needs_background": "light"
     },
     "output_type": "display_data"
    }
   ],
   "source": [
    "linkage_matrix = linkage(word_vectors, method='ward')\n",
    "plt.figure(figsize=(12, 8))\n",
    "dendrogram(linkage_matrix, leaf_rotation=90, leaf_font_size=8)\n",
    "plt.title('Dendrogram of Agglomerative Clustering')\n",
    "plt.xlabel('Entities')\n",
    "plt.ylabel('Distance')\n",
    "plt.show()"
   ]
  },
  {
   "cell_type": "code",
   "execution_count": 17,
   "id": "05c5a47b",
   "metadata": {},
   "outputs": [
    {
     "name": "stdout",
     "output_type": "stream",
     "text": [
      "Best number of clusters: 2, Best silhouette score: 0.0038129277527332306\n"
     ]
    }
   ],
   "source": [
    "# Define the range of values for n_clusters\n",
    "min_clusters = 2\n",
    "max_clusters = 20\n",
    "cluster_range = range(min_clusters, max_clusters + 1)\n",
    "\n",
    "# Initialize variables to store the best silhouette score and corresponding number of clusters\n",
    "best_silhouette_score = -1\n",
    "best_n_clusters = None\n",
    "\n",
    "# Iterate over the range of values for n_clusters\n",
    "for n_clusters in cluster_range:\n",
    "    # Fit Agglomerative Clustering with the current number of clusters\n",
    "    clustering = AgglomerativeClustering(n_clusters=n_clusters).fit(word_vectors)\n",
    "    \n",
    "    # Predict cluster labels\n",
    "    cluster_labels = clustering.labels_\n",
    "    \n",
    "    # Compute silhouette score\n",
    "    silhouette_avg = silhouette_score(word_vectors, cluster_labels)\n",
    "    \n",
    "    # Update best silhouette score and corresponding number of clusters if current score is higher\n",
    "    if silhouette_avg > best_silhouette_score:\n",
    "        best_silhouette_score = silhouette_avg\n",
    "        best_n_clusters = n_clusters\n",
    "\n",
    "# Print the best number of clusters\n",
    "print(f\"Best number of clusters: {best_n_clusters}, Best silhouette score: {best_silhouette_score}\")"
   ]
  },
  {
   "cell_type": "code",
   "execution_count": 18,
   "id": "ae569558",
   "metadata": {},
   "outputs": [],
   "source": [
    "n_clusters = 2\n",
    "clustering = AgglomerativeClustering(n_clusters=n_clusters).fit(word_vectors)"
   ]
  },
  {
   "cell_type": "code",
   "execution_count": 19,
   "id": "59edb7a0",
   "metadata": {},
   "outputs": [],
   "source": [
    "cluster_labels = clustering.labels_\n",
    "entity_cluster_map = {entity: cluster_labels[i] for i, entity in enumerate(unique_entities)}"
   ]
  },
  {
   "cell_type": "code",
   "execution_count": 20,
   "id": "29b0da42",
   "metadata": {},
   "outputs": [
    {
     "name": "stdout",
     "output_type": "stream",
     "text": [
      "Cluster 1:\n",
      "\t dihydropyrimidine dehydrogenase\n",
      "\t gingival overgrowth\n",
      "\t hypobetalipoproteinemia\n",
      "\t color vision\n",
      "\t cerebrotendinous xanthomatosis\n",
      "\t breast cancer\n",
      "\t rectum\n",
      "\t isolate aniridia\n",
      "\t cld\n",
      "\t lupus\n",
      "\n",
      "Cluster 2:\n",
      "\t coenzyme dehydrogenase\n",
      "\t cancer\n",
      "\t familial amyloidotic polyneuropathy\n",
      "\t becker muscular dystrophy\n",
      "\t thrombosis\n",
      "\t pc\n",
      "\t episodic ataxia\n",
      "\t myasthenia gravis\n",
      "\t meningococcal disease\n",
      "\t tumour\n",
      "\n"
     ]
    }
   ],
   "source": [
    "for cluster_id in range(n_clusters):\n",
    "    cluster_entities = [entity for entity, label in entity_cluster_map.items() if label == cluster_id]\n",
    "    random.shuffle(cluster_entities)\n",
    "    num_members_to_print = min(10, len(cluster_entities))\n",
    "    \n",
    "    print(f\"Cluster {cluster_id+1}:\")\n",
    "    for entity in cluster_entities[:num_members_to_print]:\n",
    "        print(\"\\t\", entity)\n",
    "    print()"
   ]
  },
  {
   "cell_type": "code",
   "execution_count": 21,
   "id": "dd99848d",
   "metadata": {},
   "outputs": [],
   "source": [
    "silhouette_avg = silhouette_score(word_vectors, clustering.labels_)\n",
    "scores['Agglomerative'] = round(silhouette_avg, 3)"
   ]
  },
  {
   "cell_type": "markdown",
   "id": "c4d02f27",
   "metadata": {},
   "source": [
    "## KMeans"
   ]
  },
  {
   "cell_type": "code",
   "execution_count": 22,
   "id": "6d519d75",
   "metadata": {},
   "outputs": [
    {
     "data": {
      "image/png": "[encoded data removed]",
      "text/plain": [
       "<Figure size 720x432 with 1 Axes>"
      ]
     },
     "metadata": {
      "needs_background": "light"
     },
     "output_type": "display_data"
    }
   ],
   "source": [
    "wcss = []\n",
    "max_k = 23\n",
    "for k in range(1, max_k + 1):\n",
    "    kmeans = KMeans(n_clusters=k, init = 'random', random_state=42)\n",
    "    kmeans.fit(word_vectors)\n",
    "    wcss.append(kmeans.inertia_)\n",
    "    \n",
    "plt.figure(figsize=(10, 6))\n",
    "plt.plot(range(1, max_k + 1), wcss, marker='o', linestyle='-')\n",
    "plt.title('Elbow Plot for Optimal K')\n",
    "plt.xlabel('Number of Clusters (K)')\n",
    "plt.ylabel('Within-Cluster Sum of Squares (WCSS)')\n",
    "plt.xticks(range(1, max_k + 1))\n",
    "plt.grid(True)\n",
    "plt.show()"
   ]
  },
  {
   "cell_type": "code",
   "execution_count": 23,
   "id": "b3aceffa",
   "metadata": {},
   "outputs": [
    {
     "name": "stdout",
     "output_type": "stream",
     "text": [
      "Best number of clusters: 2, Best silhouette score: 0.009805851615965366\n"
     ]
    }
   ],
   "source": [
    "# Define the range of values for n_clusters\n",
    "min_clusters = 2\n",
    "max_clusters = 20\n",
    "cluster_range = range(min_clusters, max_clusters + 1)\n",
    "\n",
    "# Initialize variables to store the best silhouette score and corresponding number of clusters\n",
    "best_silhouette_score = -1\n",
    "best_n_clusters = None\n",
    "\n",
    "# Iterate over the range of values for n_clusters\n",
    "for n_clusters in cluster_range:\n",
    "    # Fit K-means clustering with the current number of clusters\n",
    "    kmeans = KMeans(n_clusters=n_clusters,  init = 'random', random_state=42)\n",
    "    kmeans.fit(word_vectors)\n",
    "    \n",
    "    # Predict cluster labels\n",
    "    cluster_labels = kmeans.labels_\n",
    "    \n",
    "    # Compute silhouette score\n",
    "    silhouette_avg = silhouette_score(word_vectors, cluster_labels)\n",
    "    \n",
    "    # Update best silhouette score and corresponding number of clusters if current score is higher\n",
    "    if silhouette_avg > best_silhouette_score:\n",
    "        best_silhouette_score = silhouette_avg\n",
    "        best_n_clusters = n_clusters\n",
    "\n",
    "# Print the best number of clusters\n",
    "print(f\"Best number of clusters: {best_n_clusters}, Best silhouette score: {best_silhouette_score}\")"
   ]
  },
  {
   "cell_type": "code",
   "execution_count": 24,
   "id": "447c5b84",
   "metadata": {},
   "outputs": [
    {
     "data": {
      "text/plain": [
       "KMeans(init='random', n_clusters=2, random_state=42)"
      ]
     },
     "execution_count": 24,
     "metadata": {},
     "output_type": "execute_result"
    }
   ],
   "source": [
    "optimal_k = 2\n",
    "\n",
    "kmeans = KMeans(n_clusters=optimal_k,  init = 'random', random_state=42)\n",
    "kmeans.fit(word_vectors)"
   ]
  },
  {
   "cell_type": "code",
   "execution_count": 25,
   "id": "9ff5afb0",
   "metadata": {},
   "outputs": [],
   "source": [
    "silhouette_avg = silhouette_score(word_vectors, kmeans.labels_)\n",
    "scores['KMeans'] = round(silhouette_avg, 3)"
   ]
  },
  {
   "cell_type": "markdown",
   "id": "01fea6df",
   "metadata": {},
   "source": [
    "## KMeans++"
   ]
  },
  {
   "cell_type": "code",
   "execution_count": 26,
   "id": "969bef9b",
   "metadata": {},
   "outputs": [
    {
     "data": {
      "image/png": "[encoded data removed]",
      "text/plain": [
       "<Figure size 720x432 with 1 Axes>"
      ]
     },
     "metadata": {
      "needs_background": "light"
     },
     "output_type": "display_data"
    }
   ],
   "source": [
    "wcss = []\n",
    "max_k = 22\n",
    "for k in range(1, max_k + 1):\n",
    "    kmeans_plus = KMeans(n_clusters=k, init='k-means++', random_state=42)\n",
    "    kmeans_plus.fit(word_vectors)\n",
    "    wcss.append(kmeans_plus.inertia_)\n",
    "    \n",
    "plt.figure(figsize=(10, 6))\n",
    "plt.plot(range(1, max_k + 1), wcss, marker='o', linestyle='-')\n",
    "plt.title('Elbow Plot for Optimal K (K-Means ++)')\n",
    "plt.xlabel('Number of Clusters (K)')\n",
    "plt.ylabel('Within-Cluster Sum of Squares (WCSS)')\n",
    "plt.xticks(range(1, max_k + 1))\n",
    "plt.grid(True)\n",
    "plt.show()"
   ]
  },
  {
   "cell_type": "code",
   "execution_count": 27,
   "id": "0679e048",
   "metadata": {},
   "outputs": [
    {
     "name": "stdout",
     "output_type": "stream",
     "text": [
      "Best number of clusters: 2, Best silhouette score: 0.00957130454480648\n"
     ]
    }
   ],
   "source": [
    "# Define the range of values for n_clusters\n",
    "min_clusters = 2\n",
    "max_clusters = 25\n",
    "cluster_range = range(min_clusters, max_clusters + 1)\n",
    "\n",
    "# Initialize variables to store the best silhouette score and corresponding number of clusters\n",
    "best_silhouette_score = -1\n",
    "best_n_clusters = None\n",
    "\n",
    "# Iterate over the range of values for n_clusters\n",
    "for n_clusters in cluster_range:\n",
    "    # Fit KMeans clustering with k-means++ initialization and the current number of clusters\n",
    "    kmeans = KMeans(n_clusters=n_clusters, init='k-means++', random_state=42)\n",
    "    cluster_labels = kmeans.fit_predict(word_vectors)\n",
    "    \n",
    "    # Compute silhouette score\n",
    "    silhouette_avg = silhouette_score(word_vectors, cluster_labels)\n",
    "    \n",
    "    # Update best silhouette score and corresponding number of clusters if current score is higher\n",
    "    if silhouette_avg > best_silhouette_score:\n",
    "        best_silhouette_score = silhouette_avg\n",
    "        best_n_clusters = n_clusters\n",
    "\n",
    "# Print the best number of clusters\n",
    "print(f\"Best number of clusters: {best_n_clusters}, Best silhouette score: {best_silhouette_score}\")\n"
   ]
  },
  {
   "cell_type": "code",
   "execution_count": 28,
   "id": "1bbe79b3",
   "metadata": {},
   "outputs": [
    {
     "data": {
      "text/plain": [
       "KMeans(n_clusters=2, random_state=42)"
      ]
     },
     "execution_count": 28,
     "metadata": {},
     "output_type": "execute_result"
    }
   ],
   "source": [
    "optimal_k = 2\n",
    "\n",
    "kmeans_plus = KMeans(n_clusters=optimal_k, init='k-means++', random_state=42)\n",
    "kmeans_plus.fit(word_vectors)"
   ]
  },
  {
   "cell_type": "code",
   "execution_count": 29,
   "id": "f6ff56b6",
   "metadata": {},
   "outputs": [],
   "source": [
    "silhouette_avg = silhouette_score(word_vectors, kmeans_plus.labels_)\n",
    "scores['KMeans++'] = round(silhouette_avg, 3)"
   ]
  },
  {
   "cell_type": "markdown",
   "id": "676351a4",
   "metadata": {},
   "source": [
    "## GMM"
   ]
  },
  {
   "cell_type": "code",
   "execution_count": 30,
   "id": "274d850a",
   "metadata": {},
   "outputs": [
    {
     "name": "stdout",
     "output_type": "stream",
     "text": [
      "Best number of clusters: 6, Best silhouette score: 0.008367188274860382\n"
     ]
    }
   ],
   "source": [
    "min_clusters = 2\n",
    "max_clusters = 25\n",
    "cluster_range = range(min_clusters, max_clusters + 1)\n",
    "\n",
    "best_silhouette_score = -1\n",
    "best_n_clusters = None\n",
    "\n",
    "for n_clusters in cluster_range:\n",
    "    gmm = GaussianMixture(n_components=n_clusters, random_state=42)\n",
    "    gmm.fit(word_vectors)\n",
    "    \n",
    "    cluster_labels = gmm.predict(word_vectors)\n",
    "    silhouette_avg = silhouette_score(word_vectors, cluster_labels)\n",
    "    \n",
    "#     print(f\"Number of clusters: {n_clusters}, Silhouette score: {silhouette_avg}\")\n",
    "    \n",
    "    if silhouette_avg > best_silhouette_score:\n",
    "        best_silhouette_score = silhouette_avg\n",
    "        best_n_clusters = n_clusters\n",
    "\n",
    "print(f\"Best number of clusters: {best_n_clusters}, Best silhouette score: {best_silhouette_score}\")"
   ]
  },
  {
   "cell_type": "code",
   "execution_count": 31,
   "id": "d5b2e049",
   "metadata": {},
   "outputs": [],
   "source": [
    "n_clusters = 2\n",
    "\n",
    "gmm = GaussianMixture(n_components=n_clusters, random_state=42)\n",
    "gmm.fit(word_vectors)\n",
    "gmm_cluster_labels = gmm.predict(word_vectors)"
   ]
  },
  {
   "cell_type": "code",
   "execution_count": 32,
   "id": "4f8b855b",
   "metadata": {},
   "outputs": [],
   "source": [
    "silhouette_avg = silhouette_score(word_vectors, gmm_cluster_labels)\n",
    "scores['GMM'] = round(silhouette_avg, 3)"
   ]
  },
  {
   "cell_type": "markdown",
   "id": "7efca15c",
   "metadata": {},
   "source": [
    "# Performance Comparison"
   ]
  },
  {
   "cell_type": "code",
   "execution_count": 33,
   "id": "7c172ac1",
   "metadata": {},
   "outputs": [
    {
     "data": {
      "text/plain": [
       "{'baseline_1': -0.014,\n",
       " 'baseline_2': -0.014,\n",
       " 'Agglomerative': 0.004,\n",
       " 'KMeans': 0.01,\n",
       " 'KMeans++': 0.01,\n",
       " 'GMM': 0.008}"
      ]
     },
     "execution_count": 33,
     "metadata": {},
     "output_type": "execute_result"
    }
   ],
   "source": [
    "scores"
   ]
  },
  {
   "cell_type": "code",
   "execution_count": 34,
   "id": "4e7f03ad",
   "metadata": {},
   "outputs": [
    {
     "data": {
      "image/png": "[encoded data removed]",
      "text/plain": [
       "<Figure size 720x432 with 1 Axes>"
      ]
     },
     "metadata": {
      "needs_background": "light"
     },
     "output_type": "display_data"
    }
   ],
   "source": [
    "labels = list(scores.keys())\n",
    "values = list(scores.values())\n",
    "\n",
    "plt.figure(figsize=(10, 6))\n",
    "plt.bar(labels, values, color='skyblue', alpha=1)\n",
    "plt.xlabel('Models')\n",
    "plt.ylabel('Silhouette Score')\n",
    "plt.title('Silhouette Scores for Different Models')\n",
    "plt.xticks(rotation=45)\n",
    "plt.grid(axis='y', linestyle='--', alpha=0.7)\n",
    "plt.show()"
   ]
  },
  {
   "cell_type": "code",
   "execution_count": null,
   "id": "d7702afe",
   "metadata": {},
   "outputs": [],
   "source": []
  }
 ],
 "metadata": {
  "kernelspec": {
   "display_name": "Python 3 (ipykernel)",
   "language": "python",
   "name": "python3"
  },
  "language_info": {
   "codemirror_mode": {
    "name": "ipython",
    "version": 3
   },
   "file_extension": ".py",
   "mimetype": "text/x-python",
   "name": "python",
   "nbconvert_exporter": "python",
   "pygments_lexer": "ipython3",
   "version": "3.9.7"
  }
 },
 "nbformat": 4,
 "nbformat_minor": 5
}
